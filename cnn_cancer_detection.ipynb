{
 "cells": [
  {
   "cell_type": "markdown",
   "metadata": {},
   "source": [
    "# CNN Cancer Detection Kaggle Mini-Project\n",
    "\n",
    "##  Brief Description of The Problem and Data \n",
    "\n",
    "This project is part of a Kaggle competition aimed at automatically detecting metastatic cancer in small image patches extracted from larger digital pathology scans. The goal is to develop a binary classifier that can predict whether a given image patch contains cancerous tissue."
   ]
  }
 ],
 "metadata": {
  "language_info": {
   "name": "python"
  }
 },
 "nbformat": 4,
 "nbformat_minor": 2
}
